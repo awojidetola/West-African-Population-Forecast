{
 "cells": [
  {
   "cell_type": "code",
   "execution_count": null,
   "metadata": {
    "scrolled": true
   },
   "outputs": [],
   "source": [
    "import matplotlib.pyplot as plt\n",
    "import pandas as pd\n",
    "import numpy as np\n",
    "from sklearn.metrics import r2_score\n",
    "\n",
    "from pmdarima.arima import auto_arima"
   ]
  },
  {
   "cell_type": "code",
   "execution_count": null,
   "metadata": {},
   "outputs": [],
   "source": [
    "total_pop = pd.read_excel(\"west_african_demographics.xlsx\", sheet_name = 0)\n",
    "cbr = pd.read_excel(\"west_african_demographics.xlsx\", sheet_name = 1)\n",
    "cdr = pd.read_excel(\"west_african_demographics.xlsx\", sheet_name = 2)"
   ]
  },
  {
   "cell_type": "code",
   "execution_count": null,
   "metadata": {},
   "outputs": [],
   "source": [
    "def data_transform(df):\n",
    "    df = df.rename(columns = {'Country Name': ''})    \n",
    "    df = df.T\n",
    "    new_header = df.iloc[0]\n",
    "    df = df[1:]\n",
    "    df.columns = new_header\n",
    "    df.index.names = ['Year']\n",
    "    return df\n",
    "\n",
    "def save_files(df):\n",
    "    df = data_transform(df)\n",
    "    name = input(\" Enter name of file! with .csv at the end \")\n",
    "    df.to_csv(name)"
   ]
  },
  {
   "cell_type": "code",
   "execution_count": null,
   "metadata": {},
   "outputs": [],
   "source": [
    "total_pop_1 = pd.read_csv(\"preprocessed files/total_pop.csv\", parse_dates = ['Year'], index_col = 'Year')\n",
    "cbr_1 = pd.read_csv(\"preprocessed files/crude_birth_rate.csv\", parse_dates = ['Year'], index_col = 'Year')\n",
    "cdr_1 = pd.read_csv(\"preprocessed files/crude_death_rate.csv\", parse_dates = ['Year'], index_col = 'Year')"
   ]
  },
  {
   "cell_type": "markdown",
   "metadata": {},
   "source": [
    "### Total Population"
   ]
  },
  {
   "cell_type": "code",
   "execution_count": null,
   "metadata": {},
   "outputs": [],
   "source": [
    "total_pop_1.plot();"
   ]
  },
  {
   "cell_type": "code",
   "execution_count": null,
   "metadata": {},
   "outputs": [],
   "source": [
    "total_pop_1.describe()"
   ]
  },
  {
   "cell_type": "code",
   "execution_count": null,
   "metadata": {},
   "outputs": [],
   "source": [
    "list_1 = []\n",
    "list_2 = []\n",
    "list_3 = []\n",
    "list_4 = []\n",
    "names = []\n",
    "for i in total_pop_1.columns: \n",
    "    results = adfuller(total_pop_1[i])\n",
    "    results_2 = adfuller(total_pop_1[i].diff().dropna())\n",
    "    results_3 = adfuller(total_pop_1[i].diff().diff().dropna())\n",
    "    results_4 = adfuller(total_pop_1[i].diff().diff().diff().dropna())\n",
    "    list_1.append(results[1])\n",
    "    list_2.append(results_2[1])\n",
    "    list_3.append(results_3[1])\n",
    "    list_4.append(results_4[1])\n",
    "\n",
    "    names.append(i)\n",
    "    \n",
    "adf_p = pd.DataFrame(\n",
    "    {'column': names,\n",
    "     'no_diff': list_1,\n",
    "     'diff_1': list_2,\n",
    "     'diff_2':list_3, \n",
    "     'diff_3':list_4\n",
    "    })\n",
    "adf_p"
   ]
  },
  {
   "cell_type": "code",
   "execution_count": null,
   "metadata": {},
   "outputs": [],
   "source": [
    "train = total_pop_1['Nigeria'][:-20]\n",
    "arima_model = auto_arima(train, start_p=0, d=3, start_q=0, max_p=10, max_d=4, max_q=10, seasonal=False,\n",
    "                        error_action='warn', trace=True, supress_warnings=True, \n",
    "                        stepwise=True, random_state=20, n_fits=50)"
   ]
  },
  {
   "cell_type": "code",
   "execution_count": null,
   "metadata": {},
   "outputs": [],
   "source": [
    "test = total_pop_1[data][-20:]\n",
    "pred = arima_model.predict(n_periods=20)"
   ]
  },
  {
   "cell_type": "code",
   "execution_count": null,
   "metadata": {
    "scrolled": true
   },
   "outputs": [],
   "source": [
    "plt.plot(train,label=\"Training\")\n",
    "plt.plot(test, label=\"Test\")\n",
    "plt.plot(pred, label=\"Prediction\")\n",
    "plt.legend()\n",
    "plt.show()"
   ]
  },
  {
   "cell_type": "code",
   "execution_count": null,
   "metadata": {},
   "outputs": [],
   "source": [
    "from sklearn.metrics import r2_score\n",
    "\n",
    "r2_score(test,pred)"
   ]
  },
  {
   "cell_type": "markdown",
   "metadata": {},
   "source": [
    "### Crude Birth Rate"
   ]
  },
  {
   "cell_type": "code",
   "execution_count": null,
   "metadata": {},
   "outputs": [],
   "source": [
    "list_1 = []\n",
    "list_2 = []\n",
    "list_3 = []\n",
    "list_4 = []\n",
    "names = []\n",
    "for i in cbr_1.columns: \n",
    "    results = adfuller(cbr_1[i])\n",
    "    results_2 = adfuller(cbr_1[i].diff().dropna())\n",
    "    results_3 = adfuller(cbr_1[i].diff().diff().dropna())\n",
    "    results_4 = adfuller(cbr_1[i].diff().diff().diff().dropna())\n",
    "    list_1.append(results[1])\n",
    "    list_2.append(results_2[1])\n",
    "    list_3.append(results_3[1])\n",
    "    list_4.append(results_4[1])\n",
    "\n",
    "    names.append(i)\n",
    "    \n",
    "adf_p = pd.DataFrame(\n",
    "    {'column': names,\n",
    "     'no_diff': list_1,\n",
    "     'diff_1': list_2,\n",
    "     'diff_2':list_3, \n",
    "     'diff_3':list_4\n",
    "    })\n",
    "adf_p"
   ]
  },
  {
   "cell_type": "code",
   "execution_count": null,
   "metadata": {},
   "outputs": [],
   "source": [
    "data = input(\"Enter Country \")"
   ]
  },
  {
   "cell_type": "code",
   "execution_count": null,
   "metadata": {},
   "outputs": [],
   "source": [
    "train = total_pop_1['Nigeria'][:-20]\n",
    "arima_model = auto_arima(train, start_p=0, d=2, start_q=0, max_p=10, max_d=3, max_q=10, seasonal=False,\n",
    "                        error_action='warn', trace=True, supress_warnings=True, \n",
    "                        stepwise=True, random_state=20, n_fits=50)"
   ]
  },
  {
   "cell_type": "code",
   "execution_count": null,
   "metadata": {},
   "outputs": [],
   "source": [
    "test = total_pop_1[data][-20:]\n",
    "pred = arima_model.predict(n_periods=20)"
   ]
  },
  {
   "cell_type": "code",
   "execution_count": null,
   "metadata": {
    "scrolled": true
   },
   "outputs": [],
   "source": [
    "plt.plot(train,label=\"Training\")\n",
    "plt.plot(test, label=\"Test\")\n",
    "plt.plot(pred, label=\"Prediction\")\n",
    "plt.legend()\n",
    "plt.show()"
   ]
  },
  {
   "cell_type": "code",
   "execution_count": null,
   "metadata": {},
   "outputs": [],
   "source": [
    "from sklearn.metrics import r2_score\n",
    "\n",
    "r2_score(test,pred)"
   ]
  },
  {
   "cell_type": "markdown",
   "metadata": {},
   "source": [
    "### Crude Death Rate"
   ]
  },
  {
   "cell_type": "code",
   "execution_count": null,
   "metadata": {},
   "outputs": [],
   "source": [
    "cdr_1.tail()\n",
    "cdr_1 = cdr_1.iloc[:-1, :]"
   ]
  },
  {
   "cell_type": "code",
   "execution_count": null,
   "metadata": {},
   "outputs": [],
   "source": [
    "list_1 = []\n",
    "list_2 = []\n",
    "list_3 = []\n",
    "list_4 = []\n",
    "names = []\n",
    "for i in cdr_1.columns: \n",
    "    results = adfuller(cdr_1[i])\n",
    "    results_2 = adfuller(cdr_1[i].diff().dropna())\n",
    "    results_3 = adfuller(cdr_1[i].diff().diff().dropna())\n",
    "    results_4 = adfuller(cdr_1[i].diff().diff().diff().dropna())\n",
    "    list_1.append(results[1])\n",
    "    list_2.append(results_2[1])\n",
    "    list_3.append(results_3[1])\n",
    "    list_4.append(results_4[1])\n",
    "\n",
    "    names.append(i)\n",
    "    \n",
    "adf_p = pd.DataFrame(\n",
    "    {'column': names,\n",
    "     'no_diff': list_1,\n",
    "     'diff_1': list_2,\n",
    "     'diff_2':list_3, \n",
    "     'diff_3':list_4\n",
    "    })\n",
    "adf_p"
   ]
  },
  {
   "cell_type": "code",
   "execution_count": null,
   "metadata": {},
   "outputs": [],
   "source": [
    "data = input(\"Enter Country \")"
   ]
  },
  {
   "cell_type": "code",
   "execution_count": null,
   "metadata": {},
   "outputs": [],
   "source": [
    "train = total_pop_1['Nigeria'][:-20]\n",
    "arima_model = auto_arima(train, start_p=0, d=2, start_q=0, max_p=10, max_d=3, max_q=10, seasonal=False,\n",
    "                        error_action='warn', trace=True, supress_warnings=True, \n",
    "                        stepwise=True, random_state=20, n_fits=50)"
   ]
  },
  {
   "cell_type": "code",
   "execution_count": null,
   "metadata": {},
   "outputs": [],
   "source": [
    "test = total_pop_1[data][-20:]\n",
    "pred = arima_model.predict(n_periods=20)"
   ]
  },
  {
   "cell_type": "code",
   "execution_count": null,
   "metadata": {
    "scrolled": true
   },
   "outputs": [],
   "source": [
    "plt.plot(train,label=\"Training\")\n",
    "plt.plot(test, label=\"Test\")\n",
    "plt.plot(pred, label=\"Prediction\")\n",
    "plt.legend()\n",
    "plt.show()"
   ]
  },
  {
   "cell_type": "code",
   "execution_count": null,
   "metadata": {},
   "outputs": [],
   "source": [
    "r2_score(test,pred)"
   ]
  }
 ],
 "metadata": {
  "kernelspec": {
   "display_name": "Python 3",
   "language": "python",
   "name": "python3"
  },
  "language_info": {
   "codemirror_mode": {
    "name": "ipython",
    "version": 3
   },
   "file_extension": ".py",
   "mimetype": "text/x-python",
   "name": "python",
   "nbconvert_exporter": "python",
   "pygments_lexer": "ipython3",
   "version": "3.7.4"
  }
 },
 "nbformat": 4,
 "nbformat_minor": 2
}
