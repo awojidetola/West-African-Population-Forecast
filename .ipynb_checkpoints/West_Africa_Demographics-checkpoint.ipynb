{
 "cells": [
  {
   "cell_type": "code",
   "execution_count": 87,
   "metadata": {},
   "outputs": [],
   "source": [
    "import matplotlib.pyplot as plt\n",
    "import pandas as pd"
   ]
  },
  {
   "cell_type": "code",
   "execution_count": 88,
   "metadata": {},
   "outputs": [],
   "source": [
    "total_pop = pd.read_excel(\"west_african_demographics.xlsx\", sheet_name = 0)\n",
    "cbr = pd.read_excel(\"west_african_demographics.xlsx\", sheet_name = 1)\n",
    "cdr = pd.read_excel(\"west_african_demographics.xlsx\", sheet_name = 2)"
   ]
  },
  {
   "cell_type": "code",
   "execution_count": 100,
   "metadata": {},
   "outputs": [],
   "source": [
    "def data_transform(df):\n",
    "    df = df.rename(columns = {'Country Name': ''})    \n",
    "    df = df.T\n",
    "    new_header = df.iloc[0]\n",
    "    df = df[1:]\n",
    "    df.columns = new_header\n",
    "    df.index.names = ['Year']\n",
    "    return df\n",
    "\n",
    "def save_files(df):\n",
    "    df = data_transform(df)\n",
    "    name = input(\" Enter name of file! with .csv at the end \")\n",
    "    df.to_csv(name)"
   ]
  },
  {
   "cell_type": "code",
   "execution_count": 112,
   "metadata": {},
   "outputs": [],
   "source": [
    "total_pop_1 = pd.read_csv(\"total_pop.csv\", parse_dates = ['Year'], index_col = 'Year')\n",
    "cbr_1 = pd.read_csv(\"crude_birth_rate.csv\", parse_dates = ['Year'], index_col = 'Year')\n",
    "cdr_1 = pd.read_csv(\"crude_death_rate.csv\", parse_dates = ['Year'], index_col = 'Year')"
   ]
  }
 ],
 "metadata": {
  "kernelspec": {
   "display_name": "Python 3",
   "language": "python",
   "name": "python3"
  },
  "language_info": {
   "codemirror_mode": {
    "name": "ipython",
    "version": 3
   },
   "file_extension": ".py",
   "mimetype": "text/x-python",
   "name": "python",
   "nbconvert_exporter": "python",
   "pygments_lexer": "ipython3",
   "version": "3.7.4"
  }
 },
 "nbformat": 4,
 "nbformat_minor": 2
}
